{
 "cells": [
  {
   "cell_type": "markdown",
   "id": "6edaf106",
   "metadata": {
    "cell_marker": "\"\"\""
   },
   "source": [
    "# Example 1"
   ]
  },
  {
   "cell_type": "code",
   "execution_count": 1,
   "id": "75968cd3",
   "metadata": {
    "execution": {
     "iopub.execute_input": "2024-08-18T22:08:47.417204Z",
     "iopub.status.busy": "2024-08-18T22:08:47.417009Z",
     "iopub.status.idle": "2024-08-18T22:08:47.423841Z",
     "shell.execute_reply": "2024-08-18T22:08:47.423301Z"
    }
   },
   "outputs": [
    {
     "name": "stdout",
     "output_type": "stream",
     "text": [
      "Hello, world!\n"
     ]
    }
   ],
   "source": [
    "# This is a visible code cell\n",
    "print(\"Hello, world!\")"
   ]
  }
 ],
 "metadata": {
  "jupytext": {
   "cell_metadata_filter": "-all",
   "main_language": "python",
   "notebook_metadata_filter": "-all",
   "text_representation": {
    "extension": ".py",
    "format_name": "percent"
   }
  },
  "language_info": {
   "codemirror_mode": {
    "name": "ipython",
    "version": 3
   },
   "file_extension": ".py",
   "mimetype": "text/x-python",
   "name": "python",
   "nbconvert_exporter": "python",
   "pygments_lexer": "ipython3",
   "version": "3.10.14"
  }
 },
 "nbformat": 4,
 "nbformat_minor": 5
}
