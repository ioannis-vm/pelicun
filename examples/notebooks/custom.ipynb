{
 "cells": [
  {
   "cell_type": "markdown",
   "id": "fa2a3bdc",
   "metadata": {
    "cell_marker": "\"\"\""
   },
   "source": [
    "# First-level section title goes here.\n",
    "\n",
    "This is a Markdown cell that uses multiline comments.\n",
    "Second line here.\n",
    "\n",
    "## Second level section\n",
    "\n",
    "Here is some math:\n",
    "$$\n",
    "  \\int_0^\\infty \\frac{x^3}{e^x-1}\\,dx = \\frac{\\pi^4}{15}\n",
    "$$\n",
    "\n",
    "And here is some inline math. Variable $x$ is equal to $y$."
   ]
  },
  {
   "cell_type": "markdown",
   "id": "356bc992",
   "metadata": {
    "lines_to_next_cell": 2
   },
   "source": [
    "Another Markdown cell with a single-line comment."
   ]
  },
  {
   "cell_type": "code",
   "execution_count": 1,
   "id": "b362502e",
   "metadata": {
    "execution": {
     "iopub.execute_input": "2024-08-16T03:54:59.306190Z",
     "iopub.status.busy": "2024-08-16T03:54:59.305657Z",
     "iopub.status.idle": "2024-08-16T03:54:59.312312Z",
     "shell.execute_reply": "2024-08-16T03:54:59.311818Z"
    },
    "nbsphinx": "hidden"
   },
   "outputs": [],
   "source": [
    "# This is a hidden code cell\n",
    "# We will use this to turn the examples into additional tests without\n",
    "# polluting the documentation with imports and assertions.\n",
    "class A:\n",
    "    def one():\n",
    "        return 1\n",
    "\n",
    "    def two():\n",
    "        return 2"
   ]
  },
  {
   "cell_type": "code",
   "execution_count": 2,
   "id": "ca13a4c1",
   "metadata": {
    "execution": {
     "iopub.execute_input": "2024-08-16T03:54:59.314610Z",
     "iopub.status.busy": "2024-08-16T03:54:59.314236Z",
     "iopub.status.idle": "2024-08-16T03:54:59.317398Z",
     "shell.execute_reply": "2024-08-16T03:54:59.316787Z"
    }
   },
   "outputs": [
    {
     "name": "stdout",
     "output_type": "stream",
     "text": [
      "Hello, world!\n"
     ]
    }
   ],
   "source": [
    "# This is a visible code cell\n",
    "print(\"Hello, world!\")"
   ]
  }
 ],
 "metadata": {
  "jupytext": {
   "cell_metadata_filter": "nbsphinx,-all",
   "main_language": "python",
   "notebook_metadata_filter": "-all",
   "text_representation": {
    "extension": ".py",
    "format_name": "percent"
   }
  },
  "language_info": {
   "codemirror_mode": {
    "name": "ipython",
    "version": 3
   },
   "file_extension": ".py",
   "mimetype": "text/x-python",
   "name": "python",
   "nbconvert_exporter": "python",
   "pygments_lexer": "ipython3",
   "version": "3.10.14"
  }
 },
 "nbformat": 4,
 "nbformat_minor": 5
}
