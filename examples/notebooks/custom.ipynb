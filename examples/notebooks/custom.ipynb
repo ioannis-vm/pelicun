{
 "cells": [
  {
   "cell_type": "markdown",
   "id": "cca11681",
   "metadata": {
    "cell_marker": "\"\"\""
   },
   "source": [
    "# First-level section title goes here.\n",
    "\n",
    "This is a Markdown cell that uses multiline comments.\n",
    "Second line here.\n",
    "\n",
    "## Second level section\n",
    "\n",
    "Here is some math:\n",
    "$$\n",
    "  \\int_0^\\infty \\frac{x^3}{e^x-1}\\,dx = \\frac{\\pi^4}{15}\n",
    "$$\n",
    "\n",
    "And here is some inline math. Variable $x$ is equal to $y$."
   ]
  },
  {
   "cell_type": "markdown",
   "id": "394818e1",
   "metadata": {
    "lines_to_next_cell": 2
   },
   "source": [
    "Another Markdown cell with a single-line comment."
   ]
  },
  {
   "cell_type": "code",
   "execution_count": 1,
   "id": "1af0ca52",
   "metadata": {
    "execution": {
     "iopub.execute_input": "2024-08-18T21:30:29.675909Z",
     "iopub.status.busy": "2024-08-18T21:30:29.675707Z",
     "iopub.status.idle": "2024-08-18T21:30:29.682185Z",
     "shell.execute_reply": "2024-08-18T21:30:29.681662Z"
    },
    "nbsphinx": "hidden"
   },
   "outputs": [],
   "source": [
    "# This is a hidden code cell\n",
    "# We will use this to turn the examples into additional tests without\n",
    "# polluting the documentation with imports and assertions.\n",
    "class A:\n",
    "    def one():\n",
    "        return 1\n",
    "\n",
    "    def two():\n",
    "        return 2"
   ]
  },
  {
   "cell_type": "code",
   "execution_count": 2,
   "id": "5d7948ae",
   "metadata": {
    "execution": {
     "iopub.execute_input": "2024-08-18T21:30:29.684413Z",
     "iopub.status.busy": "2024-08-18T21:30:29.684109Z",
     "iopub.status.idle": "2024-08-18T21:30:29.687409Z",
     "shell.execute_reply": "2024-08-18T21:30:29.686780Z"
    }
   },
   "outputs": [
    {
     "name": "stdout",
     "output_type": "stream",
     "text": [
      "Hello, world!\n"
     ]
    }
   ],
   "source": [
    "# This is a visible code cell\n",
    "print(\"Hello, world!\")"
   ]
  }
 ],
 "metadata": {
  "jupytext": {
   "cell_metadata_filter": "nbsphinx,-all",
   "main_language": "python",
   "notebook_metadata_filter": "-all",
   "text_representation": {
    "extension": ".py",
    "format_name": "percent"
   }
  },
  "language_info": {
   "codemirror_mode": {
    "name": "ipython",
    "version": 3
   },
   "file_extension": ".py",
   "mimetype": "text/x-python",
   "name": "python",
   "nbconvert_exporter": "python",
   "pygments_lexer": "ipython3",
   "version": "3.10.14"
  }
 },
 "nbformat": 4,
 "nbformat_minor": 5
}
